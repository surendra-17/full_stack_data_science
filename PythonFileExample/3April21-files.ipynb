{
 "cells": [
  {
   "cell_type": "code",
   "execution_count": 6,
   "metadata": {},
   "outputs": [
    {
     "data": {
      "text/plain": [
       "'Hello surendra welcome to ineuron.'"
      ]
     },
     "execution_count": 6,
     "metadata": {},
     "output_type": "execute_result"
    }
   ],
   "source": [
    "\n",
    "f = open('test.txt','w')\n",
    "f.write('Hello surendra welcome to ineuron.')\n",
    "f.close()"
   ]
  },
  {
   "cell_type": "code",
   "execution_count": 9,
   "metadata": {},
   "outputs": [
    {
     "data": {
      "text/plain": [
       "'ndra welcome to ineuron.\\nasdf\\nxyz\\nlmn\\n10\\n20\\nSurendra'"
      ]
     },
     "execution_count": 9,
     "metadata": {},
     "output_type": "execute_result"
    }
   ],
   "source": [
    "\n",
    "\n",
    "f = open('test.txt','r')\n",
    "\n",
    "f.seek(10)\n",
    "f.read()"
   ]
  },
  {
   "cell_type": "code",
   "execution_count": 1,
   "metadata": {
    "scrolled": true
   },
   "outputs": [
    {
     "name": "stdout",
     "output_type": "stream",
     "text": [
      "This is 3\n",
      "This is 1\n",
      "This is 10\n",
      "\n",
      "This is 2\n",
      "This is 7\n",
      "This is 4\n",
      "This is 6\n",
      "This is 5\n",
      "This is 9\n",
      "This is 8\n",
      "['This is 3', 'This is 1', 'This is 10', '', 'This is 2', 'This is 7', 'This is 4', 'This is 6', 'This is 5', 'This is 9', 'This is 8']\n"
     ]
    },
    {
     "ename": "OSError",
     "evalue": "[Errno 22] Invalid argument: 'new_files_home' -> 'new_files_home/new_files_home'",
     "output_type": "error",
     "traceback": [
      "\u001b[0;31m---------------------------------------------------------------------------\u001b[0m",
      "\u001b[0;31mOSError\u001b[0m                                   Traceback (most recent call last)",
      "\u001b[0;32m<ipython-input-1-c005bbd4f133>\u001b[0m in \u001b[0;36m<module>\u001b[0;34m\u001b[0m\n\u001b[1;32m     35\u001b[0m \u001b[0;34m\u001b[0m\u001b[0m\n\u001b[1;32m     36\u001b[0m \u001b[0;32mfor\u001b[0m \u001b[0mf\u001b[0m \u001b[0;32min\u001b[0m \u001b[0mfiles\u001b[0m\u001b[0;34m:\u001b[0m\u001b[0;34m\u001b[0m\u001b[0;34m\u001b[0m\u001b[0m\n\u001b[0;32m---> 37\u001b[0;31m     \u001b[0mos\u001b[0m\u001b[0;34m.\u001b[0m\u001b[0mrename\u001b[0m\u001b[0;34m(\u001b[0m\u001b[0mf\u001b[0m\u001b[0;34m,\u001b[0m \u001b[0;34m'new_files_home/'\u001b[0m \u001b[0;34m+\u001b[0m \u001b[0mf\u001b[0m\u001b[0;34m)\u001b[0m\u001b[0;34m\u001b[0m\u001b[0;34m\u001b[0m\u001b[0m\n\u001b[0m",
      "\u001b[0;31mOSError\u001b[0m: [Errno 22] Invalid argument: 'new_files_home' -> 'new_files_home/new_files_home'"
     ]
    }
   ],
   "source": [
    "import os\n",
    "#create a new directory\n",
    "\n",
    "\n",
    "os.mkdir('test')\n",
    "os.chdir('test')\n",
    "\n",
    "#create 10 files\n",
    "for i in range(1,11):\n",
    "    f = open(f'test{i}.txt','w')\n",
    "    f.write(f'This is {i}')\n",
    "    f.close()\n",
    "\n",
    "\n",
    "#get all files and print content and store file content in list\n",
    "all_file_content = [];\n",
    "new_file = open('new_file.txt','a')\n",
    "for root, dirs, files in os.walk(\".\"):\n",
    "    for filename in files:\n",
    "        f = open(filename,'r')\n",
    "        content = f.read()\n",
    "        print(content)\n",
    "        all_file_content.append(content)\n",
    "        new_file.write(content)\n",
    "        f.close()\n",
    "\n",
    "new_file.close()\n",
    "print(all_file_content)\n",
    "\n",
    "#move all files to new directory\n",
    "os.mkdir('new_files_home')\n",
    " \n",
    "files = os.listdir()\n",
    " \n",
    "for f in files:\n",
    "    os.rename(f, 'new_files_home/' + f)"
   ]
  },
  {
   "cell_type": "code",
   "execution_count": null,
   "metadata": {},
   "outputs": [],
   "source": []
  }
 ],
 "metadata": {
  "kernelspec": {
   "display_name": "Python 3",
   "language": "python",
   "name": "python3"
  },
  "language_info": {
   "codemirror_mode": {
    "name": "ipython",
    "version": 3
   },
   "file_extension": ".py",
   "mimetype": "text/x-python",
   "name": "python",
   "nbconvert_exporter": "python",
   "pygments_lexer": "ipython3",
   "version": "3.8.5"
  }
 },
 "nbformat": 4,
 "nbformat_minor": 4
}
