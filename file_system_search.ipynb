{
 "cells": [
  {
   "cell_type": "code",
   "execution_count": 1,
   "metadata": {
    "scrolled": true
   },
   "outputs": [
    {
     "name": "stdout",
     "output_type": "stream",
     "text": [
      "Enter file name to search\n",
      "Enter extensionpdf\n"
     ]
    },
    {
     "name": "stderr",
     "output_type": "stream",
     "text": [
      "IOPub data rate exceeded.\n",
      "The notebook server will temporarily stop sending output\n",
      "to the client in order to avoid crashing it.\n",
      "To change this limit, set the config variable\n",
      "`--NotebookApp.iopub_data_rate_limit`.\n",
      "\n",
      "Current values:\n",
      "NotebookApp.iopub_data_rate_limit=1000000.0 (bytes/sec)\n",
      "NotebookApp.rate_limit_window=3.0 (secs)\n",
      "\n"
     ]
    }
   ],
   "source": [
    "\"\"\"\n",
    "    Python project to serach files with extension\n",
    "\"\"\"\n",
    "import platform\n",
    "import os\n",
    "\n",
    "os_info = platform.platform()\n",
    "path = '/'\n",
    "files_total = []\n",
    "\n",
    "def set_root(s):\n",
    "    global path\n",
    "    path = s\n",
    "\n",
    "    \n",
    "#this function is working for function file_search()\n",
    "def file_search2(filename,searchTerm=None,extension=None):\n",
    "    check = True\n",
    "    if searchTerm and extension:\n",
    "        if searchTerm in filename and filename.endsWith(extension):\n",
    "            pass\n",
    "        else:\n",
    "            check = False;\n",
    "    elif searchTerm:\n",
    "        if searchTerm in filename:\n",
    "            pass\n",
    "        else:\n",
    "            check = False;\n",
    "    elif extension:\n",
    "        if filename.endsWith(extension):\n",
    "            pass\n",
    "        else:\n",
    "            check = False;\n",
    "    else:\n",
    "        check = False\n",
    "        \n",
    "    return check\n",
    "\n",
    "#search a file\n",
    "def searchFile(searchTerm,extension=None):\n",
    "    searchTerm = searchTerm.lower()\n",
    "    extension = extension.lower() if extension != None and extension != \"\" else extension\n",
    "    if searchTerm == \"\" and extension == \"\":\n",
    "        print(\"nothing entered\")\n",
    "        return\n",
    "    file_list = open('file_list.txt','w')\n",
    "    file_found = False\n",
    "\n",
    "    for root, dirs, files in os.walk(path, topdown=False):\n",
    "\n",
    "        for name in files:\n",
    "            file_name = name.lower()\n",
    "\n",
    "            os_info = platform.platform()\n",
    "\n",
    "            if file_search2(file_name,searchTerm,extension):\n",
    "                file_found = True\n",
    "                if('Windows' in os_info):\n",
    "                    file_list.writelines(root+'\\\\'+name)\n",
    "                    files_total.append(root+'\\\\'+name)\n",
    "                else:\n",
    "                    file_list.write(root+'\\\\'+name+'\\n')\n",
    "                    files_total.append(root+'/'+name+'\\n')\n",
    "    file_list.close()\n",
    "    return files_total\n",
    "\n",
    "\n",
    "searchterm = input('Enter file name to search');\n",
    "extension = input('Enter extension')\n",
    "\n",
    "\n",
    "total = searchFile(searchterm,extension)\n",
    "\n",
    "print(total)\n"
   ]
  },
  {
   "cell_type": "code",
   "execution_count": 6,
   "metadata": {},
   "outputs": [
    {
     "name": "stdout",
     "output_type": "stream",
     "text": [
      "True\n"
     ]
    }
   ],
   "source": [
    "ext = \"pdf\"\n",
    "if 'test.pdf'.endswith(ext):\n",
    "    print(True)\n",
    "else:\n",
    "    print(False)"
   ]
  }
 ],
 "metadata": {
  "kernelspec": {
   "display_name": "Python 3",
   "language": "python",
   "name": "python3"
  },
  "language_info": {
   "codemirror_mode": {
    "name": "ipython",
    "version": 3
   },
   "file_extension": ".py",
   "mimetype": "text/x-python",
   "name": "python",
   "nbconvert_exporter": "python",
   "pygments_lexer": "ipython3",
   "version": "3.8.5"
  }
 },
 "nbformat": 4,
 "nbformat_minor": 4
}
