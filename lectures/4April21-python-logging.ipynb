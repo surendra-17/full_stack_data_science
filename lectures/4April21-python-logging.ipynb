{
 "cells": [
  {
   "cell_type": "code",
   "execution_count": 6,
   "metadata": {},
   "outputs": [
    {
     "name": "stdout",
     "output_type": "stream",
     "text": [
      "2021-04-04 16:21:29,413 - (1, 2, 3, 4)\n",
      "2021-04-04 16:22:31,662 - inside sum function\n",
      "2021-04-04 16:22:31,663 - user inputs(1, 2, 3, 4)\n",
      "2021-04-04 16:25:39,967 - inside sum function\n",
      "2021-04-04 16:25:39,968 - user inputs(1, 2, 3, 4, 5, 6, 7, 8, 9, 10)\n",
      "2021-04-04 16:26:39,122 - inside sum function\n",
      "2021-04-04 16:26:39,123 - user inputs(1, 2, 3, 4, 5, 6, 7, 8, 9, 10)\n",
      "\n"
     ]
    }
   ],
   "source": [
    "import logging\n",
    "import os\n",
    "logging.basicConfig(filename='app.log',level=logging.INFO,format='%(asctime)s - %(message)s')\n",
    "\n",
    "def log_sum(*args):\n",
    "    logging.info('inside sum function')\n",
    "    logging.info('user inputs'+str(args))\n",
    "    return sum(args)\n",
    "\n",
    "\n",
    "log_sum(1,2,3,4,5,6,7,8,9,10)\n",
    "\n",
    "#print log file data\n",
    "if(os.path.exists('app.log')):\n",
    "    file = open('app.log','r')\n",
    "    print(file.read())\n",
    "    file.close()"
   ]
  },
  {
   "cell_type": "code",
   "execution_count": 2,
   "metadata": {},
   "outputs": [
    {
     "name": "stderr",
     "output_type": "stream",
     "text": [
      "user1 - 2021-04-04 18:03:02,794 - INFO - this is from user1 info\n",
      "user1 - 2021-04-04 18:03:02,794 - INFO - this is from user1 info\n",
      "user2 - 2021-04-04 18:03:02,796 - DEBUG - This is from user2 debug\n",
      "user2 - 2021-04-04 18:03:02,796 - DEBUG - This is from user2 debug\n"
     ]
    }
   ],
   "source": [
    "# logging_example.py\n",
    "\n",
    "import logging\n",
    "\n",
    "logging.basicConfig(filename='app1.log',level=logging.DEBUG)\n",
    "format = logging.Formatter('%(name)s - %(asctime)s - %(levelname)s - %(message)s')\n",
    "# Create handlers\n",
    "logging.getLogger('')\n",
    "console_log = logging.StreamHandler()\n",
    "console_log.setFormatter(format)\n",
    "logger1 = logging.getLogger('user1')\n",
    "logger1.addHandler(console_log);\n",
    "\n",
    "\n",
    "logger2 = logging.getLogger('user2')\n",
    "logger2.addHandler(console_log);\n",
    "\n",
    "# Create a custom logger\n",
    "logging.info('main log')\n",
    "logger1.info('this is from user1 info')\n",
    "logger2.debug('This is from user2 debug')\n",
    "\n"
   ]
  },
  {
   "cell_type": "code",
   "execution_count": null,
   "metadata": {},
   "outputs": [
    {
     "name": "stdout",
     "output_type": "stream",
     "text": [
      "> \u001b[0;32m<ipython-input-4-0790ce8e4501>\u001b[0m(5)\u001b[0;36mtestdebug\u001b[0;34m()\u001b[0m\n",
      "\u001b[0;32m      4 \u001b[0;31m    \u001b[0mipdb\u001b[0m\u001b[0;34m.\u001b[0m\u001b[0mset_trace\u001b[0m\u001b[0;34m(\u001b[0m\u001b[0;34m)\u001b[0m\u001b[0;34m\u001b[0m\u001b[0;34m\u001b[0m\u001b[0m\n",
      "\u001b[0m\u001b[0;32m----> 5 \u001b[0;31m    \u001b[0ml\u001b[0m \u001b[0;34m=\u001b[0m \u001b[0;34m[\u001b[0m\u001b[0;34m]\u001b[0m\u001b[0;34m\u001b[0m\u001b[0;34m\u001b[0m\u001b[0m\n",
      "\u001b[0m\u001b[0;32m      6 \u001b[0;31m    \u001b[0;32mfor\u001b[0m \u001b[0mi\u001b[0m \u001b[0;32min\u001b[0m \u001b[0mrange\u001b[0m\u001b[0;34m(\u001b[0m\u001b[0;36m10\u001b[0m\u001b[0;34m)\u001b[0m\u001b[0;34m:\u001b[0m\u001b[0;34m\u001b[0m\u001b[0;34m\u001b[0m\u001b[0m\n",
      "\u001b[0m\n"
     ]
    }
   ],
   "source": [
    "import ipdb\n",
    "\n",
    "def testdebug():\n",
    "    ipdb.set_trace()\n",
    "    l = []\n",
    "    for i in range(10):\n",
    "        l.append(i)\n",
    "        print(\"we have appended your data in list \")\n",
    "    return l \n",
    "\n",
    "testdebug()"
   ]
  }
 ],
 "metadata": {
  "kernelspec": {
   "display_name": "Python 3",
   "language": "python",
   "name": "python3"
  },
  "language_info": {
   "codemirror_mode": {
    "name": "ipython",
    "version": 3
   },
   "file_extension": ".py",
   "mimetype": "text/x-python",
   "name": "python",
   "nbconvert_exporter": "python",
   "pygments_lexer": "ipython3",
   "version": "3.8.5"
  }
 },
 "nbformat": 4,
 "nbformat_minor": 4
}
