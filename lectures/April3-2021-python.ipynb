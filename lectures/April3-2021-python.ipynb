{
 "cells": [
  {
   "cell_type": "code",
   "execution_count": 1,
   "metadata": {},
   "outputs": [
    {
     "name": "stdout",
     "output_type": "stream",
     "text": [
      "1\n",
      "1\n",
      "2\n",
      "3\n",
      "5\n",
      "8\n",
      "13\n",
      "21\n",
      "34\n",
      "55\n"
     ]
    }
   ],
   "source": [
    "def fibo(n):\n",
    "    a = 1\n",
    "    b = 1\n",
    "    for i in range(n):\n",
    "        yield a\n",
    "        a,b = b,a+b\n",
    "\n",
    "for i in fibo(10):\n",
    "    print(i)"
   ]
  },
  {
   "cell_type": "code",
   "execution_count": 2,
   "metadata": {},
   "outputs": [
    {
     "name": "stdout",
     "output_type": "stream",
     "text": [
      "Collecting ipdb\n",
      "  Downloading ipdb-0.13.7.tar.gz (16 kB)\n",
      "Requirement already satisfied: setuptools in /home/surendra/anaconda3/lib/python3.8/site-packages (from ipdb) (50.3.1.post20201107)\n",
      "Requirement already satisfied: ipython>=7.17.0 in /home/surendra/anaconda3/lib/python3.8/site-packages (from ipdb) (7.19.0)\n",
      "Collecting toml>=0.10.2\n",
      "  Downloading toml-0.10.2-py2.py3-none-any.whl (16 kB)\n",
      "Requirement already satisfied: decorator in /home/surendra/anaconda3/lib/python3.8/site-packages (from ipython>=7.17.0->ipdb) (4.4.2)\n",
      "Requirement already satisfied: backcall in /home/surendra/anaconda3/lib/python3.8/site-packages (from ipython>=7.17.0->ipdb) (0.2.0)\n",
      "Requirement already satisfied: pexpect>4.3; sys_platform != \"win32\" in /home/surendra/anaconda3/lib/python3.8/site-packages (from ipython>=7.17.0->ipdb) (4.8.0)\n",
      "Requirement already satisfied: traitlets>=4.2 in /home/surendra/anaconda3/lib/python3.8/site-packages (from ipython>=7.17.0->ipdb) (5.0.5)\n",
      "Requirement already satisfied: prompt-toolkit!=3.0.0,!=3.0.1,<3.1.0,>=2.0.0 in /home/surendra/anaconda3/lib/python3.8/site-packages (from ipython>=7.17.0->ipdb) (3.0.8)\n",
      "Requirement already satisfied: pygments in /home/surendra/anaconda3/lib/python3.8/site-packages (from ipython>=7.17.0->ipdb) (2.7.2)\n",
      "Requirement already satisfied: pickleshare in /home/surendra/anaconda3/lib/python3.8/site-packages (from ipython>=7.17.0->ipdb) (0.7.5)\n",
      "Requirement already satisfied: jedi>=0.10 in /home/surendra/anaconda3/lib/python3.8/site-packages (from ipython>=7.17.0->ipdb) (0.17.1)\n",
      "Requirement already satisfied: ptyprocess>=0.5 in /home/surendra/anaconda3/lib/python3.8/site-packages (from pexpect>4.3; sys_platform != \"win32\"->ipython>=7.17.0->ipdb) (0.6.0)\n",
      "Requirement already satisfied: ipython-genutils in /home/surendra/anaconda3/lib/python3.8/site-packages (from traitlets>=4.2->ipython>=7.17.0->ipdb) (0.2.0)\n",
      "Requirement already satisfied: wcwidth in /home/surendra/anaconda3/lib/python3.8/site-packages (from prompt-toolkit!=3.0.0,!=3.0.1,<3.1.0,>=2.0.0->ipython>=7.17.0->ipdb) (0.2.5)\n",
      "Requirement already satisfied: parso<0.8.0,>=0.7.0 in /home/surendra/anaconda3/lib/python3.8/site-packages (from jedi>=0.10->ipython>=7.17.0->ipdb) (0.7.0)\n",
      "Building wheels for collected packages: ipdb\n",
      "  Building wheel for ipdb (setup.py) ... \u001b[?25ldone\n",
      "\u001b[?25h  Created wheel for ipdb: filename=ipdb-0.13.7-py3-none-any.whl size=11433 sha256=37d9b90fb805c0a4afbee60deb32c48de8cc08062743080e095e31641be4014b\n",
      "  Stored in directory: /home/surendra/.cache/pip/wheels/b3/e6/33/23ed5c0ce0654cd1426587c22918c3854c5e2583473e61538b\n",
      "Successfully built ipdb\n",
      "Installing collected packages: toml, ipdb\n",
      "  Attempting uninstall: toml\n",
      "    Found existing installation: toml 0.10.1\n",
      "    Uninstalling toml-0.10.1:\n",
      "      Successfully uninstalled toml-0.10.1\n",
      "Successfully installed ipdb-0.13.7 toml-0.10.2\n"
     ]
    }
   ],
   "source": [
    "!pip install ipdb"
   ]
  }
 ],
 "metadata": {
  "kernelspec": {
   "display_name": "Python 3",
   "language": "python",
   "name": "python3"
  },
  "language_info": {
   "codemirror_mode": {
    "name": "ipython",
    "version": 3
   },
   "file_extension": ".py",
   "mimetype": "text/x-python",
   "name": "python",
   "nbconvert_exporter": "python",
   "pygments_lexer": "ipython3",
   "version": "3.8.5"
  }
 },
 "nbformat": 4,
 "nbformat_minor": 4
}
