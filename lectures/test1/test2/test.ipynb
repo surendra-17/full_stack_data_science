{
 "cells": [
  {
   "cell_type": "code",
   "execution_count": 1,
   "metadata": {},
   "outputs": [
    {
     "name": "stdout",
     "output_type": "stream",
     "text": [
      "Enter range to print event noabcd\n",
      "exception occured invalid literal for int() with base 10: 'abcd'\n",
      "None\n"
     ]
    }
   ],
   "source": [
    "import mod1\n",
    "\n",
    "ran = input('Enter range to print event no')\n",
    "print(mod1.even(ran))"
   ]
  }
 ],
 "metadata": {
  "kernelspec": {
   "display_name": "Python 3",
   "language": "python",
   "name": "python3"
  },
  "language_info": {
   "codemirror_mode": {
    "name": "ipython",
    "version": 3
   },
   "file_extension": ".py",
   "mimetype": "text/x-python",
   "name": "python",
   "nbconvert_exporter": "python",
   "pygments_lexer": "ipython3",
   "version": "3.8.5"
  }
 },
 "nbformat": 4,
 "nbformat_minor": 4
}
