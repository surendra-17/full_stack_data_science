{
 "cells": [
  {
   "cell_type": "raw",
   "metadata": {},
   "source": [
    "Q1. Why are functions advantageous to have in your programs?\n",
    "\n",
    "Answer:\n",
    "        Functions reduce the need for duplicate code. This makes programs shorter, easier to read, and easier to           update.A function call is what moves the program execution into the function, and the function call               evaluates to the function's return value.\n",
    "        Please check below cell for practical implementation"
   ]
  },
  {
   "cell_type": "code",
   "execution_count": 1,
   "metadata": {},
   "outputs": [
    {
     "name": "stdout",
     "output_type": "stream",
     "text": [
      "Ineuron is great institue for learning data science\n"
     ]
    }
   ],
   "source": [
    "def hello():\n",
    "    print('Ineuron is great institue for learning data science')\n",
    "\n",
    "hello()"
   ]
  },
  {
   "cell_type": "markdown",
   "metadata": {},
   "source": [
    "Q2. When does the code in a function run: when it's specified or when it's called?\n",
    "\n",
    "Answer:\n",
    "        function code runs when function is called."
   ]
  },
  {
   "cell_type": "markdown",
   "metadata": {},
   "source": [
    "Q3. What statement creates a function?\n",
    "    \n",
    "Answer: \n",
    "        def keyword is used to create function."
   ]
  },
  {
   "cell_type": "code",
   "execution_count": 2,
   "metadata": {},
   "outputs": [
    {
     "name": "stdout",
     "output_type": "stream",
     "text": [
      "this is test function\n"
     ]
    }
   ],
   "source": [
    "def test():\n",
    "    print('this is test function')\n",
    "test()"
   ]
  },
  {
   "cell_type": "markdown",
   "metadata": {},
   "source": [
    "Q4. What is the difference between a function and a function call?\n",
    "\n",
    "Answer:\n",
    "        A function call means invoking or calling that function. Unless a function is called there is no use of that function.So the difference between the function and function call is, A function is procedure to achieve a particular result while function call is using this function to achive that task."
   ]
  },
  {
   "cell_type": "raw",
   "metadata": {},
   "source": [
    "Q5. How many global scopes are there in a Python program? How many local scopes?\n",
    "\n",
    "Answer:\n",
    "        The concept of scope rules how variables and names are looked up in your code. It determines the                   visibility of a variable within the code. The scope of a name or variable depends on the place in your             code where you create that variable. The Python scope concept is generally presented using a rule known as         the LEGB rule.    \n",
    "        \n",
    "        The letters in the acronym LEGB stand for Local, Enclosing, Global, and Built-in scopes. This summarizes           not only the Python scope levels but also the sequence of steps that Python follows when resolving names           in a program.\n",
    "        \n",
    "        Local (or function) scope is the code block or body of any Python function or lambda expression. This             Python scope contains the names that you define inside the function. These names will only be visible from         the code of the function. It’s created at function call, not at function definition, so you’ll have as             many different local scopes as function calls. This is true even if you call the same function multiple           times, or recursively. Each call will result in a new local scope being created.\n",
    "\n",
    "        Enclosing (or nonlocal) scope is a special scope that only exists for nested functions. If the local scope         is an inner or nested function, then the enclosing scope is the scope of the outer or enclosing function.         This scope contains the names that you define in the enclosing function. The names in the enclosing scope         are visible from the code of the inner and enclosing functions.\n",
    "\n",
    "        Global (or module) scope is the top-most scope in a Python program, script, or module. This Python scope           contains all of the names that you define at the top level of a program or a module. Names in this Python         scope are visible from everywhere in your code.\n",
    "\n",
    "        Built-in scope is a special Python scope that’s created or loaded whenever you run a script or open an             interactive session. This scope contains names such as keywords, functions, exceptions, and other                 attributes that are built into Python. Names in this Python scope are also available from everywhere in           your code. It’s automatically loaded by Python when you run a program or script"
   ]
  },
  {
   "cell_type": "raw",
   "metadata": {},
   "source": [
    "Q6. What happens to variables in a local scope when the function call returns?\n",
    "Answer:\n",
    "    When a variable goes out of scope, such as a local variable in a function after the function returns, its         memory can be used for other purposes. Taking the address of a local variable and then dereferencing that         address after the variable is out of scope invokes undefined behavior."
   ]
  },
  {
   "cell_type": "raw",
   "metadata": {},
   "source": [
    "Q7. What is the concept of a return value? Is it possible to have a return value in an expression?\n",
    "\n",
    "Answer:\n",
    "        A return statement is used to end the execution of the function call and “returns” the result (value of           the expression following the return keyword) to the caller. The statements after the return statements are         not executed. If the return statement is without any expression, then the special value None is returned.\n",
    "        Yes it is possible to return value in an expression"
   ]
  },
  {
   "cell_type": "raw",
   "metadata": {},
   "source": [
    "Q8. If a function does not have a return statement, what is the return value of a call to that function?\n",
    "\n",
    "Answer:\n",
    "        If no return statement appears in a function definition, control automatically returns to the calling             function after the last statement of the called function is executed. In this case, the return value of           the called function is None."
   ]
  },
  {
   "cell_type": "code",
   "execution_count": 1,
   "metadata": {},
   "outputs": [
    {
     "name": "stdout",
     "output_type": "stream",
     "text": [
      "function does not return any value\n",
      "None\n"
     ]
    }
   ],
   "source": [
    "def return_test():\n",
    "    print('function does not return any value')\n",
    "fun_result= return_test()\n",
    "print(fun_result)"
   ]
  },
  {
   "cell_type": "raw",
   "metadata": {},
   "source": [
    "Q9. How do you make a function variable refer to the global variable?\n",
    "\n",
    "Answer:\n",
    "        You can use global keyword to refer to  the global variables inside function"
   ]
  },
  {
   "cell_type": "code",
   "execution_count": 19,
   "metadata": {},
   "outputs": [
    {
     "name": "stdout",
     "output_type": "stream",
     "text": [
      "inside function using global keyword a = 20\n",
      "after fnction call a = 20\n"
     ]
    }
   ],
   "source": [
    "a = 10 \n",
    "\n",
    "def testing():\n",
    "    global a\n",
    "    a += 10\n",
    "    print('inside function using global keyword a =',a)\n",
    "\n",
    "\n",
    "testing()\n",
    "print('after fnction call a =',a)"
   ]
  },
  {
   "cell_type": "raw",
   "metadata": {},
   "source": [
    "Q10. What is the data type of None?\n",
    "\n",
    "Answer:\n",
    "        None keyword is an object, and it is a data type of the class NoneType"
   ]
  },
  {
   "cell_type": "code",
   "execution_count": 20,
   "metadata": {},
   "outputs": [
    {
     "name": "stdout",
     "output_type": "stream",
     "text": [
      "<class 'NoneType'>\n"
     ]
    }
   ],
   "source": [
    "a = None\n",
    "print(type(a))"
   ]
  },
  {
   "cell_type": "raw",
   "metadata": {},
   "source": [
    "Q11. What does the sentence import areallyourpetsnamederic do?\n",
    "\n",
    "Answer:\n",
    "        It gives you a error there is no module name 'areallyourpetsnamederic' in python."
   ]
  },
  {
   "cell_type": "code",
   "execution_count": 21,
   "metadata": {
    "scrolled": true
   },
   "outputs": [
    {
     "ename": "ModuleNotFoundError",
     "evalue": "No module named 'areallyourpetsnamederic'",
     "output_type": "error",
     "traceback": [
      "\u001b[0;31m---------------------------------------------------------------------------\u001b[0m",
      "\u001b[0;31mModuleNotFoundError\u001b[0m                       Traceback (most recent call last)",
      "\u001b[0;32m<ipython-input-21-b1ea9cb2228f>\u001b[0m in \u001b[0;36m<module>\u001b[0;34m\u001b[0m\n\u001b[0;32m----> 1\u001b[0;31m \u001b[0;32mimport\u001b[0m \u001b[0mareallyourpetsnamederic\u001b[0m\u001b[0;34m\u001b[0m\u001b[0;34m\u001b[0m\u001b[0m\n\u001b[0m",
      "\u001b[0;31mModuleNotFoundError\u001b[0m: No module named 'areallyourpetsnamederic'"
     ]
    }
   ],
   "source": [
    "import areallyourpetsnamederic"
   ]
  },
  {
   "cell_type": "raw",
   "metadata": {},
   "source": [
    "Q12. If you had a bacon() feature in a spam module, what would you call it after importing spam?\n",
    "\n",
    "Answer:\n",
    "        This function can be called with spam.bacon()"
   ]
  },
  {
   "cell_type": "raw",
   "metadata": {},
   "source": [
    "Q13. What can you do to save a programme from crashing if it encounters an error?\n",
    "\n",
    "Answer:\n",
    "       Place the line of code that might cause an error in a try clause."
   ]
  },
  {
   "cell_type": "code",
   "execution_count": 2,
   "metadata": {},
   "outputs": [
    {
     "name": "stdout",
     "output_type": "stream",
     "text": [
      "An exception occurred\n"
     ]
    }
   ],
   "source": [
    "#The try block will generate an error, because x is not defined:\n",
    "\n",
    "try:\n",
    "  print(x)\n",
    "except:\n",
    "  print(\"An exception occurred\")"
   ]
  },
  {
   "cell_type": "raw",
   "metadata": {},
   "source": [
    "Q14. What is the purpose of the try clause? What is the purpose of the except clause?\n",
    "\n",
    "Answer:\n",
    "        The code that could potentially cause an error goes in the try clause.\n",
    "        The code that executes if an error happens goes in the except clause."
   ]
  }
 ],
 "metadata": {
  "kernelspec": {
   "display_name": "Python 3",
   "language": "python",
   "name": "python3"
  },
  "language_info": {
   "codemirror_mode": {
    "name": "ipython",
    "version": 3
   },
   "file_extension": ".py",
   "mimetype": "text/x-python",
   "name": "python",
   "nbconvert_exporter": "python",
   "pygments_lexer": "ipython3",
   "version": "3.8.5"
  }
 },
 "nbformat": 4,
 "nbformat_minor": 4
}
