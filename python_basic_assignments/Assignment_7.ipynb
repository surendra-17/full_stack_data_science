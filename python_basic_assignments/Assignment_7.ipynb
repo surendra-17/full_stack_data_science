{
 "cells": [
  {
   "cell_type": "raw",
   "metadata": {},
   "source": [
    "Q1. What is the name of the feature responsible for generating Regex objects?\n",
    "\n",
    "Answer:\n",
    "        The re.compile() function returns Regex objects"
   ]
  },
  {
   "cell_type": "code",
   "execution_count": 5,
   "metadata": {
    "scrolled": false
   },
   "outputs": [
    {
     "name": "stdout",
     "output_type": "stream",
     "text": [
      "<re.Match object; span=(7, 8), match='.'>\n",
      "<re.Match object; span=(11, 12), match='.'>\n",
      ".\n"
     ]
    }
   ],
   "source": [
    "import re\n",
    "\n",
    "searchtext = 'abcdefg.xyz.lmn'\n",
    "\n",
    "pattern = re.compile(r'\\.')\n",
    "\n",
    "matches = pattern.finditer(searchtext)\n",
    "\n",
    "for match in matches:\n",
    "    print(match)\n",
    "print(searchtext[7:8])"
   ]
  },
  {
   "cell_type": "raw",
   "metadata": {},
   "source": [
    "Q2. Why do raw strings often appear in Regex objects?\n",
    "\n",
    "Answer:\n",
    "        Raw strings are used so that backslashes do not have to be escaped."
   ]
  },
  {
   "cell_type": "raw",
   "metadata": {},
   "source": [
    "Q3. What is the return value of the search() method?\n",
    "\n",
    "Answer:\n",
    "        re.search() method either returns None (if the pattern doesn’t match), or a re.MatchObject that contains           information about the matching part of the string"
   ]
  },
  {
   "cell_type": "code",
   "execution_count": 10,
   "metadata": {},
   "outputs": [
    {
     "name": "stdout",
     "output_type": "stream",
     "text": [
      "<re.Match object; span=(14, 21), match='June 24'>\n"
     ]
    }
   ],
   "source": [
    "import re\n",
    "regex = r\"([a-zA-Z]+) (\\d+)\"\n",
    "    \n",
    "match = re.search(regex, \"I was born on June 24\")\n",
    "print(match)"
   ]
  },
  {
   "cell_type": "raw",
   "metadata": {},
   "source": [
    "Q4. From a Match item, how do you get the actual strings that match the pattern?\n",
    "\n",
    "Answer:\n",
    "        The group() method returns strings of the matched text."
   ]
  },
  {
   "cell_type": "code",
   "execution_count": 22,
   "metadata": {
    "scrolled": true
   },
   "outputs": [
    {
     "name": "stdout",
     "output_type": "stream",
     "text": [
      "June 24\n"
     ]
    }
   ],
   "source": [
    "import re\n",
    "regex = r\"([a-zA-Z]+) (\\d+)\"\n",
    "    \n",
    "match = re.search(regex, \"I was born on June 24\")\n",
    "print(match.group())"
   ]
  },
  {
   "cell_type": "raw",
   "metadata": {},
   "source": [
    "Q5. In the regex which created from the r'(\\d\\d\\d)-(\\d\\d\\d-\\d\\d\\d\\d)', what does group zero cover? Group 2? Group 1?\n",
    "\n",
    "Answer:\n",
    "        Group 0 is the entire match, group 1 covers the first set of parentheses, and group 2 covers the second           set of parentheses."
   ]
  },
  {
   "cell_type": "code",
   "execution_count": 28,
   "metadata": {},
   "outputs": [
    {
     "name": "stdout",
     "output_type": "stream",
     "text": [
      "group 0 = 234-666-7777\n",
      "group 1 = 234\n",
      "group 2 = 666-7777\n"
     ]
    }
   ],
   "source": [
    "import re\n",
    "\n",
    "regex = r\"(\\d\\d\\d)-(\\d\\d\\d-\\d\\d\\d\\d)\"\n",
    "\n",
    "match = re.search(regex,'234-666-7777')\n",
    "print(f'group 0 = {match.group(0)}')\n",
    "print(f'group 1 = {match.group(1)}')\n",
    "print(f'group 2 = {match.group(2)}')"
   ]
  },
  {
   "cell_type": "raw",
   "metadata": {},
   "source": [
    "Q6. In standard expression syntax, parentheses and intervals have distinct meanings. How can you tell a regex that you want it to fit real parentheses and periods?\n",
    "\n",
    "Answer:\n",
    "        Periods and parentheses can be escaped with a backslash: \\., \\(, and \\)"
   ]
  },
  {
   "cell_type": "code",
   "execution_count": 36,
   "metadata": {},
   "outputs": [
    {
     "name": "stdout",
     "output_type": "stream",
     "text": [
      "<re.Match object; span=(0, 19), match='surendra@ineuron.ai'>\n",
      "surendra ineuron ai\n"
     ]
    }
   ],
   "source": [
    "import re\n",
    "\n",
    "#email address pattern\n",
    "pattern = r\"([a-zA-Z0-9-]+)@([a-zA-Z-]+)\\.([a-zA-Z]+)\"\n",
    "\n",
    "match = re.search(pattern,'surendra@ineuron.ai')\n",
    "print(match)\n",
    "print(match.group(1),match.group(2),match.group(3))"
   ]
  },
  {
   "cell_type": "raw",
   "metadata": {},
   "source": [
    "Q7. The findall() method returns a string list or a list of string tuples. What causes it to return one of the two options?\n",
    "\n",
    "Answer:\n",
    "        If the regex has no groups, a list of strings is returned. If the regex has groups, a list of tuples of           strings is returned."
   ]
  },
  {
   "cell_type": "code",
   "execution_count": 40,
   "metadata": {},
   "outputs": [
    {
     "name": "stdout",
     "output_type": "stream",
     "text": [
      "findall() with group [('surendra', 'ineuron', 'ai'), ('amar', 'ineuron', 'ai')]\n",
      "findall() without group ['surendra@ineuron.ai', 'amar@ineuron.ai']\n"
     ]
    }
   ],
   "source": [
    "import re\n",
    "\n",
    "#email address pattern with and without group\n",
    "pattern_email_with_group = r\"([a-zA-Z0-9-]+)@([a-zA-Z-]+)\\.([a-zA-Z]+)\"\n",
    "pattern_email_without_group = r\"[a-zA-Z0-9-]+@[a-zA-Z-]+\\.[a-zA-Z]+\"\n",
    "\n",
    "match_with_group = re.findall(pattern_email_with_group,'surendra@ineuron.ai amar@ineuron.ai')\n",
    "match_without_group = re.findall(pattern_email_without_group,'surendra@ineuron.ai amar@ineuron.ai')\n",
    "print(f'findall() with group {match_with_group}')\n",
    "print(f'findall() without group {match_without_group}')\n"
   ]
  },
  {
   "cell_type": "raw",
   "metadata": {},
   "source": [
    "Q8. In standard expressions, what does the | character mean?\n",
    "\n",
    "Answer:\n",
    "        The | character signifies matching “either, or” between two groups."
   ]
  },
  {
   "cell_type": "code",
   "execution_count": 44,
   "metadata": {},
   "outputs": [
    {
     "name": "stdout",
     "output_type": "stream",
     "text": [
      "<re.Match object; span=(0, 1), match='a'>\n",
      "<re.Match object; span=(14, 15), match='b'>\n",
      "<re.Match object; span=(20, 21), match='a'>\n",
      "<re.Match object; span=(31, 32), match='a'>\n",
      "<re.Match object; span=(35, 36), match='c'>\n"
     ]
    }
   ],
   "source": [
    "import re\n",
    "\n",
    "pattern = r\"(a|b|c)\"\n",
    "\n",
    "matches = re.finditer(pattern,'around the globe, Heal up they are coming')\n",
    "for match in matches:\n",
    "    print(match)"
   ]
  },
  {
   "cell_type": "raw",
   "metadata": {},
   "source": [
    "Q9. In regular expressions, what does the character(?) stand for?\n",
    "\n",
    "Answer:\n",
    "        The ? character can either mean “match zero or one of the preceding group” or be used to signify nongreedy         matching."
   ]
  },
  {
   "cell_type": "code",
   "execution_count": 48,
   "metadata": {},
   "outputs": [
    {
     "name": "stdout",
     "output_type": "stream",
     "text": [
      "['a@1', 'n1']\n"
     ]
    }
   ],
   "source": [
    "import re\n",
    "\n",
    "pattern = r\"\\w@?\\d\"\n",
    "\n",
    "matches = re.findall(pattern,'surendra@1.com aman1')\n",
    "print(matches)"
   ]
  },
  {
   "cell_type": "raw",
   "metadata": {},
   "source": [
    "Q10.In regular expressions, what is the difference between the + and * characters?\n",
    "\n",
    "Answer:\n",
    "        The + matches one or more. The * matches zero or more."
   ]
  },
  {
   "cell_type": "code",
   "execution_count": 52,
   "metadata": {
    "scrolled": true
   },
   "outputs": [
    {
     "name": "stdout",
     "output_type": "stream",
     "text": [
      "['ayz', 'beta1', 'bit']\n"
     ]
    }
   ],
   "source": [
    "import re\n",
    "\n",
    "pattern = r\"[a-zA-Z]+[0-9]*\"\n",
    "\n",
    "matches = re.findall(pattern,'ayz beta1 9 8bit')\n",
    "print(matches)"
   ]
  },
  {
   "cell_type": "raw",
   "metadata": {},
   "source": [
    "Q11. What is the difference between {4} and {4,5} in regular expression?\n",
    "\n",
    "Answer:\n",
    "        The {4} matches exactly four instances of the preceding group. The {4,5} matches between four and five instances.\n"
   ]
  },
  {
   "cell_type": "code",
   "execution_count": 54,
   "metadata": {},
   "outputs": [
    {
     "name": "stdout",
     "output_type": "stream",
     "text": [
      "['5678abcd']\n"
     ]
    }
   ],
   "source": [
    "import re\n",
    "\n",
    "pattern = r\"\\d{4}[a-zA-z]{4,5}\"\n",
    "\n",
    "matches = re.findall(pattern,'5678abcd 4578abc 567abcd')\n",
    "\n",
    "print(matches)"
   ]
  },
  {
   "cell_type": "raw",
   "metadata": {},
   "source": [
    "Q12. What do you mean by the \\d, \\w, and \\s shorthand character classes signify in regular expressions?\n",
    "\n",
    "Answer:\n",
    "        The \\d, \\w, and \\s shorthand character classes match a single digit, alphanumeric character, or space             character quivalent to [ \\t\\n\\r\\f\\v], respectively."
   ]
  },
  {
   "cell_type": "code",
   "execution_count": 15,
   "metadata": {},
   "outputs": [
    {
     "name": "stdout",
     "output_type": "stream",
     "text": [
      "['8b']\n"
     ]
    }
   ],
   "source": [
    "import re\n",
    "\n",
    "pattern = r\"\\d\\w\\s?\"\n",
    "\n",
    "matches = re.findall(pattern,'8bit 8 bit')\n",
    "print(matches)"
   ]
  },
  {
   "cell_type": "raw",
   "metadata": {},
   "source": [
    "Q13. What do means by \\D, \\W, and \\S shorthand character classes signify in regular expressions?\n",
    "\n",
    "Answer:\n",
    "        The \\D, \\W, and \\S shorthand character classes match a single character that is not a digit, word, or             space character, respectively."
   ]
  },
  {
   "cell_type": "code",
   "execution_count": 18,
   "metadata": {},
   "outputs": [
    {
     "name": "stdout",
     "output_type": "stream",
     "text": [
      "['t 8']\n"
     ]
    }
   ],
   "source": [
    "import re\n",
    "\n",
    "pattern = r\"\\D\\W\\S?\"\n",
    "\n",
    "matches = re.findall(pattern,'8bit 8 bit')\n",
    "print(matches)"
   ]
  },
  {
   "cell_type": "raw",
   "metadata": {},
   "source": [
    "Q14. What is the difference between .*? and .*\n",
    "\n",
    "Answer:\n",
    "        The .* performs a greedy match, and the .*? performs a nongreedy match.\n",
    "        \n",
    "        Greedy match - When a special character matches as much of the search sequence (string) as possible, it is         said to be a \"Greedy Match\". It is the normal behavior of a regular expression\n",
    "        Non Greedy match - Adding ? after the qualifier makes it perform the match in a non-greedy or minimal             fashion. That is, as few characters as possible will be matched. "
   ]
  },
  {
   "cell_type": "raw",
   "metadata": {},
   "source": [
    "Q15. What is the syntax for matching both numbers and lowercase letters with a character class?\n",
    "\n",
    "Answer:\n",
    "        Either [0-9a-z] or [a-z0-9]"
   ]
  },
  {
   "cell_type": "code",
   "execution_count": 3,
   "metadata": {},
   "outputs": [
    {
     "name": "stdout",
     "output_type": "stream",
     "text": [
      "Enter string to test: test@\n",
      "not valid\n"
     ]
    }
   ],
   "source": [
    "import re\n",
    "password = input(\"Enter string to test: \")\n",
    "if re.fullmatch(r'[a-z0-9]+', password):\n",
    "    print('valid')\n",
    "else:\n",
    "    print('not valid')"
   ]
  },
  {
   "cell_type": "raw",
   "metadata": {},
   "source": [
    "Q16. What is the procedure for making a normal expression in regax case insensitive?\n",
    "\n",
    "Answer:\n",
    "        re.IGNORECASE Makes matching of alphabetic characters case-insensitive"
   ]
  },
  {
   "cell_type": "code",
   "execution_count": 14,
   "metadata": {},
   "outputs": [
    {
     "name": "stdout",
     "output_type": "stream",
     "text": [
      "['AAA'] ['aaaAAA']\n"
     ]
    }
   ],
   "source": [
    "import re\n",
    "\n",
    "match = re.findall('A+', 'aaaAAA')\n",
    "match_ignore_case = re.findall('A+', 'aaaAAA', re.IGNORECASE)\n",
    "print(match,match_ignore_case)"
   ]
  },
  {
   "cell_type": "raw",
   "metadata": {},
   "source": [
    "Q17. What does the . character normally match? What does it match if re.DOTALL is passed as 2nd argument in re.compile()?\n",
    "\n",
    "Answer:\n",
    "        . match any character except newline re.DOTALL is used to match a newline"
   ]
  },
  {
   "cell_type": "code",
   "execution_count": 4,
   "metadata": {},
   "outputs": [
    {
     "name": "stdout",
     "output_type": "stream",
     "text": [
      "[]\n",
      "['foo\\nbar']\n"
     ]
    }
   ],
   "source": [
    "import re\n",
    "\n",
    "normal_pattern = re.compile('foo.bar')\n",
    "pattern_with_dotall = re.compile(r'foo.bar',re.DOTALL)\n",
    "\n",
    "para = \"foo\\nbar\"\n",
    "\n",
    "print(normal_pattern.findall(para))\n",
    "print(pattern_with_dotall.findall(para))"
   ]
  },
  {
   "cell_type": "raw",
   "metadata": {},
   "source": [
    "Q18. If numReg = re.compile(r'\\d+'), what will numRegex.sub('X', '11 drummers, 10 pipers, five rings, 4 hen') return?\n",
    "\n",
    "Answer:\n",
    "        'X drummers, X pipers, five rings, X hens'"
   ]
  },
  {
   "cell_type": "code",
   "execution_count": 6,
   "metadata": {},
   "outputs": [
    {
     "name": "stdout",
     "output_type": "stream",
     "text": [
      "X drummers, X pipers, five rings, X hen\n"
     ]
    }
   ],
   "source": [
    "import re\n",
    "\n",
    "numRegex = re.compile(r'\\d+')\n",
    "\n",
    "print(numRegex.sub('X', '11 drummers, 10 pipers, five rings, 4 hen'))"
   ]
  },
  {
   "cell_type": "raw",
   "metadata": {},
   "source": [
    "Q19. What does passing re.VERBOSE as the 2nd argument to re.compile() allow to do?\n",
    "\n",
    "Answer:\n",
    "        re.VERBOSE Allows inclusion of whitespace and comments within a regex. It allows you to format a regex so         that it’s more readable and self-documenting."
   ]
  },
  {
   "cell_type": "code",
   "execution_count": 9,
   "metadata": {},
   "outputs": [
    {
     "name": "stdout",
     "output_type": "stream",
     "text": [
      "<re.Match object; span=(0, 8), match='414.9229'>\n",
      "<re.Match object; span=(0, 8), match='414-9229'>\n",
      "<re.Match object; span=(0, 13), match='(712)414-9229'>\n",
      "<re.Match object; span=(0, 14), match='(712) 414-9229'>\n",
      "\n",
      "using re.VERBOSE\n",
      "<re.Match object; span=(0, 8), match='414.9229'>\n",
      "<re.Match object; span=(0, 8), match='414-9229'>\n",
      "<re.Match object; span=(0, 13), match='(712)414-9229'>\n",
      "<re.Match object; span=(0, 14), match='(712) 414-9229'>\n"
     ]
    }
   ],
   "source": [
    "#normal regex\n",
    "regex = r'^(\\(\\d{3}\\))?\\s*\\d{3}[-.]\\d{4}$'\n",
    "\n",
    "print(re.search(regex, '414.9229'))\n",
    "print(re.search(regex, '414-9229'))\n",
    "print(re.search(regex, '(712)414-9229'))\n",
    "print(re.search(regex, '(712) 414-9229'))\n",
    "print()\n",
    "\n",
    "\"\"\"\n",
    "    But r'^(\\(\\d{3}\\))?\\s*\\d{3}[-.]\\d{4}$' is an eyeful, isn’t it? \n",
    "    Using the VERBOSE flag, you can write the same regex in Python like this instead:\n",
    "\"\"\"\n",
    "regex2 = r'''^               # Start of string\n",
    "            (\\(\\d{3}\\))?    # Optional area code\n",
    "            \\s*             # Optional whitespace\n",
    "            \\d{3}           # Three-digit prefix\n",
    "            [-.]            # Separator character\n",
    "            \\d{4}           # Four-digit line number\n",
    "            $               # Anchor at end of string\n",
    "        '''\n",
    "print('using re.VERBOSE')\n",
    "print(re.search(regex2, '414.9229', re.VERBOSE))\n",
    "print(re.search(regex2, '414-9229', re.VERBOSE))\n",
    "print(re.search(regex2, '(712)414-9229', re.X))\n",
    "print(re.search(regex2, '(712) 414-9229', re.X))"
   ]
  },
  {
   "cell_type": "raw",
   "metadata": {},
   "source": [
    "Q20. How would you write a regex that match a number with comma for every three digits? It must match the given following:\n",
    "'42'\n",
    "'1,234'\n",
    "'6,368,745'\n",
    "but not the following:\n",
    "'12,34,567' (which has only two digits between the commas)\n",
    "'1234' (which lacks commas)\n",
    "\n",
    "Answer:\n",
    "        re.compile(r'^\\d{1,3}(,\\d{3})*$')"
   ]
  },
  {
   "cell_type": "code",
   "execution_count": 19,
   "metadata": {
    "scrolled": true
   },
   "outputs": [
    {
     "name": "stdout",
     "output_type": "stream",
     "text": [
      "<re.Match object; span=(0, 2), match='42'>\n",
      "<re.Match object; span=(0, 5), match='1,234'>\n",
      "<re.Match object; span=(0, 9), match='6,368,745'>\n",
      "None\n",
      "None\n"
     ]
    }
   ],
   "source": [
    "import re\n",
    "\n",
    "pattern = re.compile(r'^\\d{1,3}(,\\d{3})*$')\n",
    "\n",
    "print(pattern.search('42'))\n",
    "print(pattern.search('1,234'))\n",
    "print(pattern.search('6,368,745'))\n",
    "print(pattern.search('12,34,567'))\n",
    "print(pattern.search('1234'))"
   ]
  },
  {
   "cell_type": "raw",
   "metadata": {},
   "source": [
    "Q21. How would you write a regex that matches the full name of someone whose last name is Watanabe? You can assume that the first name that comes before it will always be one word that begins with a capital letter. The regex must match the following:\n",
    "'Haruto Watanabe'\n",
    "'Alice Watanabe'\n",
    "'RoboCop Watanabe'\n",
    "but not the following:\n",
    "'haruto Watanabe' (where the first name is not capitalized)\n",
    "'Mr. Watanabe' (where the preceding word has a nonletter character)\n",
    "'Watanabe' (which has no first name)\n",
    "'Haruto watanabe' (where Watanabe is not capitalized)\n"
   ]
  },
  {
   "cell_type": "code",
   "execution_count": 22,
   "metadata": {
    "scrolled": true
   },
   "outputs": [
    {
     "name": "stdout",
     "output_type": "stream",
     "text": [
      "<re.Match object; span=(0, 15), match='Haruto Watanabe'>\n",
      "<re.Match object; span=(0, 14), match='Alice Watanabe'>\n",
      "<re.Match object; span=(0, 16), match='RoboCop Watanabe'>\n",
      "None\n",
      "None\n",
      "None\n",
      "None\n"
     ]
    }
   ],
   "source": [
    "import re\n",
    "\n",
    "pattern = re.compile(r'[A-Z][a-zA-Z]*\\sWatanabe')\n",
    "\n",
    "print(pattern.search('Haruto Watanabe'))\n",
    "print(pattern.search('Alice Watanabe'))\n",
    "print(pattern.search('RoboCop Watanabe'))\n",
    "print(pattern.search('haruto Watanabe'))\n",
    "print(pattern.search('Mr. Watanabe'))\n",
    "print(pattern.search('Watanabe'))\n",
    "print(pattern.search('Haruto watanabe'))"
   ]
  },
  {
   "cell_type": "raw",
   "metadata": {},
   "source": [
    "Q22. How would you write a regex that matches a sentence where the first word is either Alice, Bob, or Carol; the second word is either eats, pets, or throws; the third word is apples, cats, or baseballs; and the sentence ends with a period? This regex should be case-insensitive. It must match the following:\n",
    "'Alice eats apples.'\n",
    "'Bob pets cats.'\n",
    "'Carol throws baseballs.'\n",
    "'Alice throws Apples.'\n",
    "'BOB EATS CATS.'\n",
    "but not the following:\n",
    "'RoboCop eats apples.'\n",
    "'ALICE THROWS FOOTBALLS.'\n",
    "'Carol eats 7 cats.'\n"
   ]
  },
  {
   "cell_type": "code",
   "execution_count": 26,
   "metadata": {},
   "outputs": [
    {
     "name": "stdout",
     "output_type": "stream",
     "text": [
      "<re.Match object; span=(0, 18), match='Alice eats apples.'>\n",
      "<re.Match object; span=(0, 14), match='Bob pets cats.'>\n",
      "<re.Match object; span=(0, 23), match='Carol throws baseballs.'>\n",
      "<re.Match object; span=(0, 20), match='Alice throws Apples.'>\n",
      "<re.Match object; span=(1, 15), match='BOB EATS CATS.'>\n",
      "None\n",
      "None\n",
      "None\n"
     ]
    }
   ],
   "source": [
    "import re\n",
    "\n",
    "pattern = re.compile(r'(Alice|Bob|Carol)\\s(eats|pets|throws)\\s(apples|cats|baseballs)\\.',re.IGNORECASE)\n",
    "\n",
    "print(pattern.search('Alice eats apples.'))\n",
    "print(pattern.search('Bob pets cats.'))\n",
    "print(pattern.search('Carol throws baseballs.'))\n",
    "print(pattern.search('Alice throws Apples.'))\n",
    "print(pattern.search('ABOB EATS CATS.'))\n",
    "print(pattern.search('ARoboCop eats apples.'))\n",
    "print(pattern.search('ALICE THROWS FOOTBALLS.'))\n",
    "print(pattern.search('Carol eats 7 cats.'))"
   ]
  }
 ],
 "metadata": {
  "kernelspec": {
   "display_name": "Python 3",
   "language": "python",
   "name": "python3"
  },
  "language_info": {
   "codemirror_mode": {
    "name": "ipython",
    "version": 3
   },
   "file_extension": ".py",
   "mimetype": "text/x-python",
   "name": "python",
   "nbconvert_exporter": "python",
   "pygments_lexer": "ipython3",
   "version": "3.8.5"
  }
 },
 "nbformat": 4,
 "nbformat_minor": 4
}
